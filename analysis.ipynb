{
 "cells": [
  {
   "cell_type": "code",
   "execution_count": 1,
   "metadata": {},
   "outputs": [],
   "source": [
    "import matplotlib.pyplot as plt\n",
    "import numpy as np\n",
    "import importlib\n",
    "\n",
    "from mesa.batchrunner import BatchRunner\n",
    "\n",
    "import src.model"
   ]
  },
  {
   "cell_type": "code",
   "execution_count": 2,
   "metadata": {},
   "outputs": [],
   "source": [
    "# run this cell to re-import the Model class\n",
    "importlib.reload(src.model);"
   ]
  },
  {
   "cell_type": "markdown",
   "metadata": {},
   "source": [
    "# Single run"
   ]
  },
  {
   "cell_type": "code",
   "execution_count": 3,
   "metadata": {},
   "outputs": [],
   "source": [
    "# setup parameters\n",
    "time_step = 0.1\n",
    "n_steps = 10000\n",
    "\n",
    "model = src.model.Model(\n",
    "     length=1000,\n",
    "     lane_width=3.5,\n",
    "     n_lanes=2,\n",
    "     flow=0.6,\n",
    "     max_speed=120,\n",
    "     car_length=5,\n",
    "     min_spacing=1,\n",
    "     car_acc=33 / 10,\n",
    "     car_dec=33 / 5,\n",
    "     p_slowdown=0.2,\n",
    "     time_step=time_step,\n",
    "     seed=None,\n",
    "     verbose=0)\n",
    "\n",
    "# run simulation for `n_steps`\n",
    "for i in range(n_steps):\n",
    "    model.step()"
   ]
  },
  {
   "cell_type": "code",
   "execution_count": 4,
   "metadata": {},
   "outputs": [
    {
     "data": {
      "text/plain": [
       "Text(0, 0.5, 'Density $k$')"
      ]
     },
     "execution_count": 4,
     "metadata": {},
     "output_type": "execute_result"
    },
    {
     "data": {
      "image/png": "[encoded data removed]",
      "text/plain": [
       "<Figure size 432x288 with 1 Axes>"
      ]
     },
     "metadata": {
      "needs_background": "light"
     },
     "output_type": "display_data"
    }
   ],
   "source": [
    "# plot the density over time\n",
    "df = model.data_collector.get_model_vars_dataframe()\n",
    "plt.plot(df.index * time_step, df.Density, \"o\")\n",
    "plt.xlabel(\"Time (s)\")\n",
    "plt.ylabel(\"Density $k$\")"
   ]
  },
  {
   "cell_type": "markdown",
   "metadata": {},
   "source": [
    "# Batch run"
   ]
  },
  {
   "cell_type": "markdown",
   "metadata": {},
   "source": [
    "Note `BatchRunner` `model_reporters` and `agent_reporters` (unlike the `DataCollector`) won’t collect the data every step of the model, but only at the end of each run. Because of this the following function is used to extract the relevant data from the models datacollector."
   ]
  },
  {
   "cell_type": "code",
   "execution_count": 5,
   "metadata": {},
   "outputs": [],
   "source": [
    "def get_density(model, initialisation_steps=0):\n",
    "    \"\"\"Extract density from model datacollector.\n",
    "    \n",
    "    Parameters\n",
    "    ----------\n",
    "    model\n",
    "    initialisation_steps -- number of initial steps to exclude from the mean.\n",
    "    \"\"\"\n",
    "    # time-evolution of density\n",
    "    densities = model.data_collector.get_model_vars_dataframe().Density\n",
    "    # return the mean\n",
    "    return densities[initialisation_steps:].mean()\n",
    "    "
   ]
  },
  {
   "cell_type": "code",
   "execution_count": 6,
   "metadata": {},
   "outputs": [
    {
     "name": "stderr",
     "output_type": "stream",
     "text": [
      "50it [00:01, 27.14it/s]\n"
     ]
    }
   ],
   "source": [
    "# setup parameters\n",
    "n_lanes = [1]\n",
    "flows = np.linspace(0.1, 2, 10)\n",
    "n_steps = 1000\n",
    "initialisation_steps = 500\n",
    "\n",
    "fixed_params = {\n",
    "    \"length\": 1000,\n",
    "    \"lane_width\": 3.5,\n",
    "    #\"n_lanes\": 2,\n",
    "    #\"flow\": 0.6,\n",
    "    \"max_speed\": 120,\n",
    "    \"car_length\": 5,\n",
    "    \"min_spacing\": 1,\n",
    "    \"car_acc\": 33 / 10,\n",
    "    \"car_dec\": 33 / 5,\n",
    "    \"p_slowdown\": 0.2,\n",
    "    \"time_step\": 0.1,\n",
    "    \"verbose\": 0\n",
    "}\n",
    "variable_params = {\n",
    "    \"n_lanes\": n_lanes,\n",
    "    \"flow\": flows\n",
    "}\n",
    "\n",
    "# create and run `BatchRunner`\n",
    "batch_run = BatchRunner(src.model.Model,\n",
    "                        fixed_parameters=fixed_params,\n",
    "                        variable_parameters=variable_params,\n",
    "                        iterations=5,\n",
    "                        max_steps=n_steps,\n",
    "                        model_reporters={\n",
    "                            \"density\": lambda x: get_density(x, initialisation_steps)\n",
    "                        },\n",
    "                        agent_reporters={},\n",
    "                        display_progress=True)\n",
    "batch_run.run_all()"
   ]
  },
  {
   "cell_type": "code",
   "execution_count": 7,
   "metadata": {},
   "outputs": [],
   "source": [
    "# get the dataframe and select the relevant columns\n",
    "df = batch_run.get_model_vars_dataframe()\n",
    "df = df[[\"n_lanes\", \"flow\", \"density\"]]"
   ]
  },
  {
   "cell_type": "code",
   "execution_count": 8,
   "metadata": {},
   "outputs": [
    {
     "data": {
      "text/plain": [
       "<matplotlib.legend.Legend at 0x7f4d22f7f7b8>"
      ]
     },
     "execution_count": 8,
     "metadata": {},
     "output_type": "execute_result"
    },
    {
     "data": {
      "image/png": "[encoded data removed]",
      "text/plain": [
       "<Figure size 432x288 with 1 Axes>"
      ]
     },
     "metadata": {
      "needs_background": "light"
     },
     "output_type": "display_data"
    }
   ],
   "source": [
    "# plot flow rate versus vehicle density \n",
    "fig, ax = plt.subplots(1, 1)\n",
    "for n_lane in n_lanes:\n",
    "    data = df[df.n_lanes == n_lane]\n",
    "    ax.plot(data.density, data.flow, \"o\", label=\"{} lanes\".format(n_lane))\n",
    "\n",
    "ax.set_xlabel(\"Density $k$\")\n",
    "ax.set_ylabel(\"Flow $q$\")    \n",
    "ax.legend()"
   ]
  },
  {
   "cell_type": "code",
   "execution_count": null,
   "metadata": {},
   "outputs": [],
   "source": []
  }
 ],
 "metadata": {
  "kernelspec": {
   "display_name": "Python 3",
   "language": "python",
   "name": "python3"
  },
  "language_info": {
   "codemirror_mode": {
    "name": "ipython",
    "version": 3
   },
   "file_extension": ".py",
   "mimetype": "text/x-python",
   "name": "python",
   "nbconvert_exporter": "python",
   "pygments_lexer": "ipython3",
   "version": "3.6.8"
  }
 },
 "nbformat": 4,
 "nbformat_minor": 2
}
